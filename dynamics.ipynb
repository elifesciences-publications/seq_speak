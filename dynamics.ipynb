{
 "cells": [
  {
   "cell_type": "markdown",
   "metadata": {},
   "source": [
    "# Membrane potential\n",
    "\n",
    "We use leaky integrate-and-fire neurons with conductance-based synapses (see Section 13.6.2 of Gerstner, Kistler, Naud, and Paninski (http://neuronaldynamics.epfl.ch/index.html)).\n",
    "\n",
    "The $i$-th neuron's membrane voltage $V^i(t)$ is given by:\n",
    "\n",
    "$\\tau_m\\cfrac{dV^i}{dt} = -(V^i - E_L) - g^i_E(t)(V^i - E_E) - g^i_I(t)(V^i - E_I)$\n",
    "\n",
    "where $\\tau_m$ is the membrane time constant, $E_L$ is the leak conductance, $g^i_E$ and $E_E$ the excitatory conductance and reversal potential, respectively, and $g^i_I$ and $E_I$ the inhibitory conductance and reversal potential, with conductances defined relative to the leak conductance.\n",
    "\n",
    "When the voltage of neuron $i$ crosses the threshold $V_{th}^i$ it spikes and is reset to $V_r^i$ for $\\tau_{rp}^i$ seconds."
   ]
  },
  {
   "cell_type": "markdown",
   "metadata": {},
   "source": [
    "## Associated model params\n",
    "\n",
    "$\\tau_m^{PC}$ (T_M_PC): PC (pyramidal/place cell) membrane time constant\n",
    "\n",
    "$E_L^{PC}$ (E_L_PC): PC membrane leak potential\n",
    "\n",
    "$V_{th}^{PC}$ (V_TH_PC): PC spike threshold\n",
    "\n",
    "$V_r^{PC}$ (V_R_PC): PC reset potential\n",
    "\n",
    "$\\tau_{rp}^{PC}$ (T_R_PC): PC refractory period\n",
    "\n",
    "\n",
    "$\\tau_m^{INH}$ (T_M_INH): INH membrane time constant\n",
    "\n",
    "$E_L^{INH}$ (E_L_INH): INH membrane leak potential\n",
    "\n",
    "$V_{th}^{INH}$ (V_TH_INH): INH spike threshold\n",
    "\n",
    "$V_r^{INH}$ (V_R_INH): INH reset potential\n",
    "\n",
    "$\\tau_{rp}^{INH}$ (T_R_INH): INH refractory period\n",
    "\n",
    "\n",
    "\n",
    "$E_E$ (E_E): EXC synaptic reversal potential\n",
    "\n",
    "$E_I$ (E_I): INH synaptic reversal potential"
   ]
  },
  {
   "cell_type": "markdown",
   "metadata": {},
   "source": [
    "# Synaptic conductances\n",
    "\n",
    "The synaptic conductances for the $i$-th cell are given by:\n",
    "\n",
    "$g^i_{SYN}(t) = \\sum\\limits_j w_{ij} \\sum\\limits_{k(j)} h_{SYN}(t - t^{k(j)})$\n",
    "\n",
    "where $g^i_{SYN} \\in \\{g^i_A, g^i_N, g^i_G\\}$, $j$ indexes upstream neurons, $w_{ij}$ is the synaptic strength from neuron $j$ onto neuron $i$, $k(j)$ is the $k$-th spike time of upstream neuron $j$, and $h_{SYN}(t)$ is the synaptic activation function for synapse type $SYN$ (in this case a one-sided exponential with time constant $\\tau_{SYN}$). These conductances are relative to the leak conductance and have no units.\n",
    "\n",
    "In short, the synaptic conductance of neuron $i$ caused by neuron $j$'s spike train is a convolution of neuron $j$'s spike train (where each spike is a delta function) with synaptic activation function $h(t)$ (e.g., a 1-sided decaying exponential), scaled by the synaptic weight $w_{ij}$."
   ]
  },
  {
   "cell_type": "markdown",
   "metadata": {},
   "source": [
    "## Associated model params\n",
    "\n",
    "$\\tau_E$ (T_E): EXC synaptic decay time constant\n",
    "\n",
    "$\\tau_I$ (T_I): INH synaptic decay time constant"
   ]
  },
  {
   "cell_type": "markdown",
   "metadata": {},
   "source": [
    "# Place-tuned inputs\n",
    "\n",
    "$\\bar{w}_E^{PC, PL}$ (W_E_PC_PL): mean EXC PL->PC synaptic weight\n",
    "\n",
    "$\\sigma_E^{PC, PL}$ (S_E_PC_PL): std EXC PL->PC synaptic weight"
   ]
  },
  {
   "cell_type": "markdown",
   "metadata": {},
   "source": [
    "# GATE --> PC connectivity"
   ]
  },
  {
   "cell_type": "markdown",
   "metadata": {},
   "source": [
    "All gate --> PC connectivity is purely excitatory."
   ]
  },
  {
   "cell_type": "markdown",
   "metadata": {},
   "source": [
    "## Associated model params"
   ]
  },
  {
   "cell_type": "markdown",
   "metadata": {},
   "source": [
    "$\\bar{w}_{E}^{PC, G}$ (W_E_PC_G): mean EXC synaptic weight to PC from its associated gate input\n",
    "\n",
    "$\\sigma_{E}^{PC, G}$ (S_E_PC_G): std EXC synaptic weight to PC from its associated gate input"
   ]
  },
  {
   "cell_type": "markdown",
   "metadata": {},
   "source": [
    "# GATE --> PC inputs"
   ]
  },
  {
   "cell_type": "markdown",
   "metadata": {},
   "source": [
    "PCs receive poisson spiking inputs from corresponding upstream gate neurons. These occur at one rate during the sensory/traj epoch and at another rate during the replay epoch."
   ]
  },
  {
   "cell_type": "markdown",
   "metadata": {},
   "source": [
    "## Associated model params\n",
    "\n",
    "$r_{rpl}^{PC,G}$ (FR_RPL_PC_G): G-->PC input spk rate during replay epoch"
   ]
  },
  {
   "cell_type": "markdown",
   "metadata": {},
   "source": [
    "# GATE --> PC activity-dependent plasticity\n",
    "\n",
    "Hyun (2013, 2015) showed that a 10 Hz spike train in a CA3 PC lasting 1-2 s, elicited either by direct current injection or activation of upstream mossy fibers, was sufficient to almost double the size of EC->CA3 EPSPs.\n",
    "\n",
    "We model this activity-dependent synaptic weight change in the $i$-th neuron by scaling all G-->PC weights $w^{ij}$ by an activity dependent scaling factor $a^i = a(r^i)$, where $r^i$ location-evoked firing rate in PC $i$. Thus, $w^{ij} \\rightarrow a^iw^{ij}$ following the agent's trajectory through its environment, where $j$ idxes gating neurons."
   ]
  },
  {
   "cell_type": "markdown",
   "metadata": {},
   "source": [
    "The location-evoked firing rate $r^i$ is a squared exponential function of the distance from PC $i$'s place field center and the nearest point on the agent's trajectory.\n",
    "\n",
    "$r^i = r(d^i) = r_{max}^{PL} \\exp\\left(-\\cfrac{1}{2}\\left(\\cfrac{d^i}{\\lambda_{PL}}\\right)^2\\right)$\n",
    "\n",
    "The scaling factor $a^i$ on $w^{ij} \\forall j$ is \n",
    "\n",
    "$a^i = a(r^i) = 1 + \\cfrac{w_{max}^{PC, G} - 1}{1 + \\exp[-(r^i - r_a) / \\beta_a]}$\n",
    "\n"
   ]
  },
  {
   "cell_type": "markdown",
   "metadata": {},
   "source": [
    "## Associated model params\n",
    "\n",
    "$w_{max}^{PC,G}$ (W_G_MAX): max amplification factor for G-->PC EXC weight change"
   ]
  },
  {
   "cell_type": "markdown",
   "metadata": {},
   "source": [
    "# PC->PC connectivity"
   ]
  },
  {
   "cell_type": "markdown",
   "metadata": {},
   "source": [
    "We model recurrent connectivity among CA3 PCs by assuming that cells with similar place-tuning have a higher probability of connecting. Specifically, the probability of a candidate targ PC receiving a connection from a src PC at a distance $d$ away is given by:\n",
    "\n",
    "$w_E^{PC,PC}(d) = \\bar{w}_E^{PC, PC}\\exp\\left[-\\cfrac{1}{2}\\left(\\cfrac{d}{\\lambda^{PC,PC}}\\right)^2\\right]$\n",
    "\n",
    "All $w_E^{PC,PC} < w_{E, min}^{PC,PC}$ set to 0."
   ]
  },
  {
   "cell_type": "markdown",
   "metadata": {},
   "source": [
    "## Associated model params\n",
    "\n",
    "$N_{PC}$ (N_PC): num PCs in ntwk\n",
    "\n",
    "$\\lambda^{PC, PC}$ (L_PC_PC): PC-->PC connectivity length scale\n",
    "\n",
    "$\\bar{w}_E^{PC, PC}$ (W_E_PC_PC): mean PC-->PC synaptic weight\n",
    "\n",
    "$w_{E,min}^{PC,PC}$ (W_E_MIN_PC_PC): min PC-->PC syn weight\n",
    "\n",
    "\n",
    "$Z^{PC, PC}$ (Z_PC_PC): PC-->PC connectivity normalization factor\n",
    "\n",
    "$\\sigma_E^{PC, PC}$ (S_E_PC_PC): std PC-->PC synaptic weight"
   ]
  },
  {
   "cell_type": "markdown",
   "metadata": {},
   "source": [
    "# PC->INH connectivity\n",
    "\n",
    "PCs send excitatory projections to INH neurons with similar place fields, according to:\n",
    "\n",
    "NOT IMPLEMENTED YET"
   ]
  },
  {
   "cell_type": "markdown",
   "metadata": {},
   "source": [
    "## Associated model params\n",
    "\n",
    "$N_{INH}$ (N_INH): num INHs in ntwk\n",
    "\n",
    "$Z^{INH, PC}$ (Z_INH_PC): PC-->INH connectivity normalization factor\n",
    "\n",
    "$\\lambda^{INH, PC}$ (L_INH_PC): PC-->INH connectivity length scale\n",
    "\n",
    "$\\bar{w}_E^{INH, PC}$ (W_E_INH_PC): mean PC-->INH synaptic weight\n",
    "\n",
    "$\\sigma_E^{INH, PC}$ (S_E_INH_PC): std PC-->INH synaptic weight"
   ]
  },
  {
   "cell_type": "markdown",
   "metadata": {},
   "source": [
    "# INH->PC connectivity\n",
    "\n",
    "INHs send inhibitory projections back to PCs in the surround, but not center of their own place fields, according to:\n",
    "\n",
    "NOT IMPLEMENTED YET"
   ]
  },
  {
   "cell_type": "markdown",
   "metadata": {},
   "source": [
    "## Associated model params\n",
    "\n",
    "$\\lambda_c^{PC, INH}$ (L_C_PC_INH): INH --> PC connectivity length scale for center\n",
    "\n",
    "$Z_c^{PC, INH}$ (Z_C_PC_INH): INH --> PC connectivity normalization factor for center\n",
    "\n",
    "$\\lambda_s^{PC, INH}$ (L_S_PC_INH): INH --> PC connectivity length scale for surround\n",
    "\n",
    "$Z_s^{PC, INH}$ (Z_S_PC_INH): INH --> PC connectivity normalization factor for surround\n",
    "\n",
    "$\\bar{w}_I^{PC, INH}$ (W_I_PC_INH): mean INH --> PC INH synaptic weight\n",
    "\n",
    "$\\sigma_I^{PC, INH}$ (S_I_PC_INH): std INH --> PC INH synaptic weight"
   ]
  },
  {
   "cell_type": "markdown",
   "metadata": {},
   "source": [
    "# Replay trigger"
   ]
  },
  {
   "cell_type": "markdown",
   "metadata": {},
   "source": [
    "To trigger replay we inject a square current pulse into a set of PCs near the simulated animal's final location. In particular, we stimulate all PCs within a radius $r_{tr}$ of latent location $(x_{tr}, y_{tr})$."
   ]
  },
  {
   "cell_type": "markdown",
   "metadata": {},
   "source": [
    "## Associated model params\n",
    "\n",
    "$\\Delta T_{tr}$ (D_T_TR): replay trigger duration\n",
    "\n",
    "$a_{tr}$ (A_TR): replay trigger amplitude\n",
    "\n",
    "$x_{tr}$ (X_TR): replay trigger x-center\n",
    "\n",
    "$y_{tr}$ (Y_TR): replay trigger y-center\n",
    "\n",
    "$r_{tr}$ (R_TR): replay trigger radius"
   ]
  },
  {
   "cell_type": "markdown",
   "metadata": {},
   "source": [
    "# Final G->PC weight approximation\n",
    "\n",
    "For computational efficiency some simulations involve approximating the G->PC weight distribution expected to result from a trajectory through space.\n",
    "\n",
    "Specifically, we assume each G->PC weight is scaled by a factor $f$ that depends on the PC's distance $d$ to the trajectory. For a given neuron:\n",
    "\n",
    "$f = (1-g) + a_pg$\n",
    "\n",
    "$g = (1 - |d/l_a|^k)_+$\n",
    "\n",
    "Here $l_a$ refers to the RADIUS of the approximation, and $k$ to the PITCH (or steepness) of the approximation.\n",
    "\n",
    "The resulting approximation is a ridge of increased G->PC weights that follows the original trajectory.\n",
    "\n",
    "## Associated model params\n",
    "\n",
    "$l_a$ (RADIUS): approximation radius\n",
    "\n",
    "$k$ (PITCH): approximation pitch"
   ]
  }
 ],
 "metadata": {
  "kernelspec": {
   "display_name": "Python 3",
   "language": "python",
   "name": "python3"
  },
  "language_info": {
   "codemirror_mode": {
    "name": "ipython",
    "version": 3
   },
   "file_extension": ".py",
   "mimetype": "text/x-python",
   "name": "python",
   "nbconvert_exporter": "python",
   "pygments_lexer": "ipython3",
   "version": "3.5.2"
  }
 },
 "nbformat": 4,
 "nbformat_minor": 2
}
